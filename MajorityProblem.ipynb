{
 "cells": [
  {
   "cell_type": "markdown",
   "metadata": {},
   "source": [
    "# One dimensinal CAs and Genetic Algorithms Foundation"
   ]
  },
  {
   "cell_type": "code",
   "execution_count": 1,
   "metadata": {},
   "outputs": [],
   "source": [
    "import numpy as np\n",
    "import matplotlib.pyplot as plt\n",
    "import random\n",
    "import os\n",
    "import collections\n",
    "import math\n",
    "from operator import itemgetter\n",
    "from tqdm import tqdm"
   ]
  },
  {
   "cell_type": "markdown",
   "metadata": {},
   "source": [
    "# Verificar pasta de trabalho"
   ]
  },
  {
   "cell_type": "code",
   "execution_count": 11,
   "metadata": {},
   "outputs": [
    {
     "data": {
      "text/plain": [
       "'C:\\\\Users\\\\diogo\\\\inteligenciaArtificial\\\\Inteligencia artificial\\\\Celular_Automata_V2'"
      ]
     },
     "execution_count": 11,
     "metadata": {},
     "output_type": "execute_result"
    }
   ],
   "source": [
    "os.getcwd()"
   ]
  },
  {
   "cell_type": "markdown",
   "metadata": {},
   "source": [
    "## Terminologia usada neste notebook\n",
    "\n",
    "termo | definição\n",
    "------------ | -------------\n",
    "autómato ou célula | Qualquer uma das entidades que formam parte de uma rede dinâmica em espaço/tempo\n",
    "network | Conjunto de células (autómatos) de tamanho N\n",
    "rule | representação do dicionario que contem todas as especificaçõs dos próximos estados possíveis para uma célular dependendo da sua configuração de vizinhanza local\n",
    "rad | Número de vizinhos considerados por cada célula a cada lado \n",
    "nei | Vizinhança local de uma célula cujo tamanho e 2 * rad + 1\n",
    "res | Variável auxiliar usada para calcular o estado da network em t+1\n",
    "\n",
    "Adiciona os termos que faltam na tabela..."
   ]
  },
  {
   "cell_type": "markdown",
   "metadata": {},
   "source": [
    "## Functions to compute CA dynamics"
   ]
  },
  {
   "cell_type": "code",
   "execution_count": 12,
   "metadata": {},
   "outputs": [],
   "source": [
    "\n",
    "# this little vanilla-soft function computes the updating of a single time step.\n",
    "# step_network takes a network configuration at time t, the rule we want to use \n",
    "# as a list of integers representing cell outputs in inverse lexicographic of the \n",
    "# local neighbourhoods, the corresponding rule radius and returns a list\n",
    "# corresponding to the network configuration of the cells a t t+1\n",
    "# this code is very 'beginners' like, you can optimise it\n",
    "\n",
    "def step_network(network, rule, rad):\n",
    "    res = [] \n",
    "    for i in range(len(network)) :\n",
    "        offset_left = i - rad\n",
    "        offset_right = (i + rad)\n",
    "        sw=0\n",
    "        network_copy = network       \n",
    "        # case 1: when we have left neighbours on the right end of the network\n",
    "        if offset_left < 0 :\n",
    "            sw =1\n",
    "            network_copy = np.roll(network, offset_left*(-1))\n",
    "            nei = network_copy[0:2*rad+1] \n",
    "            lc = list(map(str,nei)) # convert neighbourhood into list of chars\n",
    "            pos = int(''.join(lc), 2) # convert list of chars into joint string and convert that string (binary) to integer (decimal)\n",
    "            res.append(rule[pos])\n",
    "        # case 2: when we have right neighbours at the left end of the network\n",
    "        if offset_right >= len(network) :\n",
    "            sw=1\n",
    "            start = ((2*rad)+1)*-1\n",
    "            mv = -1*(offset_right-i)\n",
    "            network_copy = np.roll(network, mv)\n",
    "            nei = network_copy[start:]\n",
    "            lc = list(map(str,nei))\n",
    "            pos = int(''.join(lc), 2)\n",
    "            res.append(rule[pos])\n",
    "        # case 3: when all the neighbours are in the same section of the network\n",
    "        if sw == 0:\n",
    "            nei = network_copy[i-rad:i+rad+1]\n",
    "            lc = list(map(str,nei))\n",
    "            pos = int(''.join(lc), 2)\n",
    "            res.append(rule[pos])\n",
    "    return(res)\n",
    "\n",
    "# And this, also vanilla-soft function computes the entire dynamics of m time steps\n",
    "    \n",
    "def runCA(net, rule, rad, m):\n",
    "    i=1\n",
    "    sp = []\n",
    "    this = net\n",
    "    while i < m:\n",
    "        ts = step_network(this, rule, rad)\n",
    "        #print(ts)\n",
    "        sp.append(ts)\n",
    "        this = ts\n",
    "        i+=1\n",
    "    return(sp) #Ex: [[0,1,0,0,1,0],[0,1,0,0,1,0],[0,1,0,0,1,0],...,[0,1,0,0,1,0]] "
   ]
  },
  {
   "cell_type": "markdown",
   "metadata": {},
   "source": [
    "### Now we can run and visualise CAs"
   ]
  },
  {
   "cell_type": "code",
   "execution_count": 13,
   "metadata": {},
   "outputs": [
    {
     "data": {
      "image/png": "[encoded data removed]",
      "text/plain": [
       "<Figure size 720x720 with 1 Axes>"
      ]
     },
     "metadata": {
      "needs_background": "light"
     },
     "output_type": "display_data"
    }
   ],
   "source": [
    "# rule representation\n",
    "# convert to binary and pad left with zeroes\n",
    "# reverse so that least significant neighbourhood is first\n",
    "\n",
    "# setting the CA rule\n",
    "rule = 110 #base 10 rule representation\n",
    "r = 1 \n",
    "n = (2*r)+1\n",
    "s = 2\n",
    "rule_list =  list(map(int, list(np.binary_repr(rule,n**2))))\n",
    "rule_list.reverse() #we need to reverse it so that we can take advantage of saying that the element\n",
    "                    #in position 0 of the list corresponds to the neighbourhood of all zeros\n",
    "rule_list = [0, 0, 0, 0, 1, 0, 0, 0, 1, 0, 0, 0, 0, 0, 0, 0, 1, 0, 0, 0, 0, 1, 0, 0, 0, 0, 0, 1, 0, 0, 1, 0, 0, 1, 0, 1, 1, 0, 1, 1, 0, 0, 0, 1, 1, 0, 0, 0, 1, 0, 0, 0, 0, 0, 1, 0, 0, 0, 1, 1, 0, 1, 1, 0, 0, 1, 1, 0, 0, 1, 0, 0, 0, 0, 0, 0, 0, 0, 1, 1, 0, 1, 0, 1, 0, 0, 1, 0, 0, 0, 1, 1, 1, 0, 0, 1, 1, 1, 1, 0, 0, 1, 0, 1, 0, 0, 0, 0, 0, 1, 1, 1, 1, 0, 1, 1, 0, 1, 0, 0, 0, 0, 0, 0, 1, 0, 1, 1]\n",
    "# Now we setting the initial configuration\n",
    "\n",
    "network_size = 151 # say you want 151 automata in your 1D CA\n",
    "network = np.random.randint(0, s, network_size) # make your automata start with random choice (1 or 0)\n",
    "\n",
    "#%%timeit n=100\n",
    "x = runCA(network, rule_list, 1, len(rule_list)*2)\n",
    "nx = np.array(x)\n",
    "nx.astype(float)\n",
    "fig = plt.figure(figsize=(10,10))\n",
    "plt.imshow(nx, cmap='Greys');\n",
    "plt.show()"
   ]
  },
  {
   "cell_type": "markdown",
   "metadata": {},
   "source": [
    "network = tamanho de 100\n",
    "\n",
    "Correr o CA significa:\n",
    "Aplicar a regra 2* o tamanho da network\n"
   ]
  },
  {
   "cell_type": "markdown",
   "metadata": {},
   "source": [
    "## Support Functions for the Genetic Algorithm"
   ]
  },
  {
   "cell_type": "markdown",
   "metadata": {},
   "source": [
    "Do not try to run the code below because it is incomplete. You need to complete T1, T2, T3 and T4 indicated in the comments before you can continue to the next block. Estimated time to complete these four code completions 15-25 minutes."
   ]
  },
  {
   "cell_type": "code",
   "execution_count": 14,
   "metadata": {},
   "outputs": [],
   "source": [
    "\n",
    "# Parameters\n",
    "\n",
    "population = [] # here you will add random CA rules in rad = 3 (the size of which has to be 128)\n",
    "training_set_size = 10 # this is the number of network examples I will use to compute rule fitness for majority classification\n",
    "population_size = 20 # this is the population size (P)\n",
    "elite_size = 5 # number of CA rules considered for the Elite\n",
    "\n",
    "rad = 3 # the rad is 3, we know that this is necessary for majority classification\n",
    "s=2 # each cell can have one of two states\n",
    "n = (2*rad)+1 # the size of the neighbourhood of a cell\n",
    "network_size = 91 # say you want 91 cells in your 1D CA\n",
    "ca_steps = 182 # the number of time steps to run CAs for when we are computing fitness\n",
    "\n",
    "mutation_rate = 0.02 # you can vary this\n",
    "cross_over_points = 1 # you can vary this\n",
    "\n",
    "# this code allows you to produce a random rule given number of states and size of local neigbourhood\n",
    "def random_rule(s,n):\n",
    "    rule_size = s**n\n",
    "    rule_space = s**rule_size\n",
    "    random_rule = random.getrandbits(rule_size)\n",
    "    rule_list =  list(map(int, list(np.binary_repr(random_rule,rule_size))))\n",
    "    return rule_list #Ex: [0,1,1,0,0,1]\n",
    "\n",
    "def generate_training_set(training_set_size, s, network_size):\n",
    "    training_set = []\n",
    "    for i in range(training_set_size):\n",
    "        t = np.random.randint(0, s, network_size) # make your automata start with random choice (1 or 0)\n",
    "        training_set.append(list(t))\n",
    "    return training_set #Ex:[[0,1,0,0,1],[0,1,0,0,1],[0,1,0,0,1]]\n",
    "\n",
    "# this code allows you to create a set of network examples to test the fitness of CA rules in your populations\n",
    "training_set = []\n",
    "for i in range(training_set_size):\n",
    "    t = np.random.randint(0, s, network_size) # make your automata start with random choice (1 or 0)\n",
    "    training_set.append(list(t))\n",
    "\n",
    "# this code allows you to create a set of CA rules to form your populations\n",
    "population = []\n",
    "for i in range(population_size):\n",
    "    r = random_rule(2,7)\n",
    "    population.append([r, 0])\n",
    "\n",
    "def compute_fitness(individual, training_set, r, steps):\n",
    "    performance_list =[]\n",
    "\n",
    "    for example in training_set:\n",
    "            \n",
    "            #Count 0 and 1 at the start\n",
    "            counter1 = collections.Counter(individual)\n",
    "            count_zeroes = counter1[0]\n",
    "            count_ones = counter1[1]\n",
    "            \n",
    "            #Get majority at the start\n",
    "            if count_zeroes > count_ones:\n",
    "                majority = 0\n",
    "            else:\n",
    "                majority = 1\n",
    "                \n",
    "            #Run celular automata for a certain individual\n",
    "            ca_dynamics = runCA(example, individual, r, steps) #Ex:[[0,0,1,0,1],[0,0,1,0,1],[0,0,1,0,1],[0,0,1,0,1]...,[0,0,1,0,1]]\n",
    "            \n",
    "            #Count 0 and 1 at the end\n",
    "            counter2 = collections.Counter(ca_dynamics[len(ca_dynamics)-1])\n",
    "            keys = list(counter2.keys())\n",
    "            if majority in keys:\n",
    "                performance = counter2[majority] / len(ca_dynamics[len(ca_dynamics)-1])\n",
    "            else:\n",
    "                performance = 0\n",
    "            \n",
    "            #Append performance to the list\n",
    "            performance_list.append(performance)\n",
    "    return sum(performance_list)/len(performance_list) # remember that fitness is the average performance over the examples\n",
    "        \n",
    "        \n",
    "    "
   ]
  },
  {
   "cell_type": "markdown",
   "metadata": {},
   "source": [
    "### Test generation of single random CA rule and computation of majority classification fitness"
   ]
  },
  {
   "cell_type": "code",
   "execution_count": 20,
   "metadata": {},
   "outputs": [
    {
     "data": {
      "text/plain": [
       "0.48571428571428565"
      ]
     },
     "execution_count": 20,
     "metadata": {},
     "output_type": "execute_result"
    }
   ],
   "source": [
    "my_rule = random_rule(2,7)\n",
    "compute_fitness(my_rule, training_set, rad, ca_steps)"
   ]
  },
  {
   "cell_type": "markdown",
   "metadata": {},
   "source": [
    "## Complete the rest of the functions for the Genetic Algorithm\n",
    "Now work on the remaining GA functions. Estimated time to completion 2-4 hours"
   ]
  },
  {
   "cell_type": "code",
   "execution_count": 2,
   "metadata": {},
   "outputs": [],
   "source": [
    "def cross_over(parent_1, parent_2, points):\n",
    "    \n",
    "    #Indices possiveis para crossover\n",
    "    indexOptions = list(range(1,len(parent_1)-1))\n",
    "    \n",
    "    #Escolhemos aleatoriamente os crossover points\n",
    "    crossOverPoints = sorted(random.sample(indexOptions, k=points) + [0,len(parent_1)]) #[0,2,4,6]\n",
    "    children = [[],[]]\n",
    "    for count in range(len(crossOverPoints)-1):\n",
    "        if count % 2:\n",
    "            children[0] += parent_1[crossOverPoints[count]:crossOverPoints[count+1]]\n",
    "            children[1] += parent_2[crossOverPoints[count]:crossOverPoints[count+1]]\n",
    "        else:\n",
    "            children[1] += parent_1[crossOverPoints[count]:crossOverPoints[count+1]]\n",
    "            children[0] += parent_2[crossOverPoints[count]:crossOverPoints[count+1]]\n",
    "    return children\n",
    "    \n",
    "def mutation(child, mut_rate):\n",
    "    states = [0,1]\n",
    "    child = [ i if mut_rate < random.random() else random.choice(removeArrayElement(states,i)) for i in child]\n",
    "    return child\n",
    "    \n",
    "def do_generation(population, training_set, rad, ca_steps):\n",
    "    populationFitness = [] #Ex: [(rule,fit),(rul,fit)...] \n",
    "    for individual in population:\n",
    "            populationFitness.append((individual,compute_fitness(individual, training_set, rad, ca_steps)))  \n",
    "    return sorted(populationFitness,key=itemgetter(1), reverse = True)\n",
    "    \n",
    "def next_generation(populationFitness,points,mut_rate):\n",
    "    eliteSize = 5\n",
    "    elite = [i[0] for i in populationFitness[:eliteSize]]\n",
    "    newGeneration = elite \n",
    "    \n",
    "    while  len(newGeneration) < len(populationFitness):\n",
    "        parents = random.sample(elite, k=2) #Ex:[[0,0,1,0,1],[0,0,0,1,0]]\n",
    "        children = cross_over(parents[0],parents[1], points)\n",
    "        for child in children:\n",
    "            if(len(newGeneration) < len(populationFitness)):\n",
    "                newGeneration.append(mutation(child,mut_rate))    \n",
    "                \n",
    "    return newGeneration\n",
    "    \n",
    "def removeArrayElement(array,element):\n",
    "    a = array.copy()\n",
    "    a.remove(element)\n",
    "    return a\n",
    "\n",
    "def run_genetic_algorithm(rad,s,population_size,network_size,training_set_size,elite_size,mut_rate,points):\n",
    "    \n",
    "    n = (2*rad)+1\n",
    "    ruleSize = int(math.pow(s,n))\n",
    "    steps = network_size * 2\n",
    "    population = [random_rule(s,n) for i in range(population_size)] #Ex: [r1,r2,r3,r4]\n",
    "\n",
    "    for i in range(50):\n",
    "        \n",
    "        training_set = generate_training_set(training_set_size, s, network_size)\n",
    "        populationFitness = do_generation(population, training_set, rad, steps)\n",
    "        print('Generation: ', i)\n",
    "        print('Best fit: ', populationFitness[0][1])\n",
    "        if populationFitness[0][1] > 0.95:\n",
    "            print(populationFitness[0][0])\n",
    "        population = next_generation(populationFitness,points,mut_rate)"
   ]
  },
  {
   "cell_type": "markdown",
   "metadata": {},
   "source": [
    "# Majority Problem Code"
   ]
  },
  {
   "cell_type": "markdown",
   "metadata": {},
   "source": [
    "## Variaveis costumizaveis\n",
    "\n",
    "termo | definição\n",
    "------------ | -------------\n",
    "rad | Numero de vizinhos considerados por cada célula a cada lado\n",
    "s | Numero de estados que uma celula pode ter\n",
    "population_size | Quantas rules vão haver numa população\n",
    "network_size | tamanho do automato (de uma dimensão)\n",
    "training_set_size | Numero de automatos para computar o fit de cada rule \n",
    "elite_size | Tamanho da elite de cada geração\n",
    "mut_rate | Probabilidade de mutação para os filhos\n",
    "points | Numero de crossover points para a criação de filhos\n"
   ]
  },
  {
   "cell_type": "code",
   "execution_count": 43,
   "metadata": {},
   "outputs": [
    {
     "name": "stdout",
     "output_type": "stream",
     "text": [
      "Generation:  0\n",
      "Best fit:  0.608\n",
      "Generation:  1\n",
      "Best fit:  0.6369999999999999\n",
      "Generation:  2\n",
      "Best fit:  0.9349999999999999\n",
      "Generation:  3\n",
      "Best fit:  0.932\n",
      "Generation:  4\n",
      "Best fit:  1.0\n",
      "[0, 0, 0, 0, 0, 0, 1, 0, 0, 1, 1, 1, 1, 1, 0, 0, 0, 1, 1, 0, 0, 1, 1, 1, 1, 0, 1, 1, 0, 1, 0, 1, 1, 0, 1, 0, 0, 1, 1, 0, 1, 0, 0, 1, 1, 1, 0, 1, 1, 0, 1, 1, 1, 0, 1, 1, 0, 0, 0, 0, 0, 0, 1, 1, 0, 0, 1, 1, 0, 0, 1, 0, 0, 1, 0, 0, 1, 1, 1, 1, 1, 0, 1, 0, 0, 0, 0, 0, 0, 0, 0, 0, 1, 0, 0, 0, 1, 1, 0, 1, 1, 1, 1, 1, 0, 1, 0, 0, 0, 0, 1, 1, 0, 0, 1, 0, 0, 0, 1, 1, 0, 1, 1, 1, 1, 1, 0, 0]\n",
      "Generation:  5\n",
      "Best fit:  1.0\n",
      "[0, 0, 0, 0, 0, 0, 1, 0, 0, 1, 1, 1, 1, 1, 0, 0, 0, 1, 1, 0, 0, 1, 1, 1, 1, 0, 1, 1, 0, 1, 0, 0, 0, 0, 1, 0, 0, 1, 1, 0, 0, 0, 0, 1, 0, 0, 0, 0, 1, 0, 0, 1, 1, 0, 1, 1, 0, 0, 0, 0, 0, 1, 1, 1, 0, 0, 1, 1, 0, 0, 1, 0, 0, 0, 0, 0, 1, 0, 1, 0, 0, 0, 1, 0, 0, 0, 0, 0, 0, 0, 0, 0, 1, 0, 0, 0, 1, 1, 0, 1, 1, 1, 1, 1, 0, 1, 0, 0, 0, 0, 1, 0, 0, 0, 1, 0, 0, 0, 1, 1, 0, 1, 1, 0, 0, 1, 0, 0]\n"
     ]
    },
    {
     "ename": "KeyboardInterrupt",
     "evalue": "",
     "output_type": "error",
     "traceback": [
      "\u001b[1;31m---------------------------------------------------------------------------\u001b[0m",
      "\u001b[1;31mKeyboardInterrupt\u001b[0m                         Traceback (most recent call last)",
      "\u001b[1;32m<ipython-input-43-65fca41d5a01>\u001b[0m in \u001b[0;36m<module>\u001b[1;34m\u001b[0m\n\u001b[0;32m      8\u001b[0m \u001b[0mpoints\u001b[0m \u001b[1;33m=\u001b[0m \u001b[1;36m2\u001b[0m\u001b[1;33m\u001b[0m\u001b[1;33m\u001b[0m\u001b[0m\n\u001b[0;32m      9\u001b[0m \u001b[1;33m\u001b[0m\u001b[0m\n\u001b[1;32m---> 10\u001b[1;33m \u001b[0mrun_genetic_algorithm\u001b[0m\u001b[1;33m(\u001b[0m\u001b[0mrad\u001b[0m\u001b[1;33m,\u001b[0m\u001b[0ms\u001b[0m\u001b[1;33m,\u001b[0m\u001b[0mpopulation_size\u001b[0m\u001b[1;33m,\u001b[0m\u001b[0mnetwork_size\u001b[0m\u001b[1;33m,\u001b[0m\u001b[0mtraining_set_size\u001b[0m\u001b[1;33m,\u001b[0m\u001b[0melite_size\u001b[0m\u001b[1;33m,\u001b[0m\u001b[0mmut_rate\u001b[0m\u001b[1;33m,\u001b[0m\u001b[0mpoints\u001b[0m\u001b[1;33m)\u001b[0m\u001b[1;33m\u001b[0m\u001b[1;33m\u001b[0m\u001b[0m\n\u001b[0m",
      "\u001b[1;32m<ipython-input-42-2d5a667701f3>\u001b[0m in \u001b[0;36mrun_genetic_algorithm\u001b[1;34m(rad, s, population_size, network_size, training_set_size, elite_size, mut_rate, points)\u001b[0m\n\u001b[0;32m     56\u001b[0m \u001b[1;33m\u001b[0m\u001b[0m\n\u001b[0;32m     57\u001b[0m         \u001b[0mtraining_set\u001b[0m \u001b[1;33m=\u001b[0m \u001b[0mgenerate_training_set\u001b[0m\u001b[1;33m(\u001b[0m\u001b[0mtraining_set_size\u001b[0m\u001b[1;33m,\u001b[0m \u001b[0ms\u001b[0m\u001b[1;33m,\u001b[0m \u001b[0mnetwork_size\u001b[0m\u001b[1;33m)\u001b[0m\u001b[1;33m\u001b[0m\u001b[1;33m\u001b[0m\u001b[0m\n\u001b[1;32m---> 58\u001b[1;33m         \u001b[0mpopulationFitness\u001b[0m \u001b[1;33m=\u001b[0m \u001b[0mdo_generation\u001b[0m\u001b[1;33m(\u001b[0m\u001b[0mpopulation\u001b[0m\u001b[1;33m,\u001b[0m \u001b[0mtraining_set\u001b[0m\u001b[1;33m,\u001b[0m \u001b[0mrad\u001b[0m\u001b[1;33m,\u001b[0m \u001b[0msteps\u001b[0m\u001b[1;33m)\u001b[0m\u001b[1;33m\u001b[0m\u001b[1;33m\u001b[0m\u001b[0m\n\u001b[0m\u001b[0;32m     59\u001b[0m         \u001b[0mprint\u001b[0m\u001b[1;33m(\u001b[0m\u001b[1;34m'Generation: '\u001b[0m\u001b[1;33m,\u001b[0m \u001b[0mi\u001b[0m\u001b[1;33m)\u001b[0m\u001b[1;33m\u001b[0m\u001b[1;33m\u001b[0m\u001b[0m\n\u001b[0;32m     60\u001b[0m         \u001b[0mprint\u001b[0m\u001b[1;33m(\u001b[0m\u001b[1;34m'Best fit: '\u001b[0m\u001b[1;33m,\u001b[0m \u001b[0mpopulationFitness\u001b[0m\u001b[1;33m[\u001b[0m\u001b[1;36m0\u001b[0m\u001b[1;33m]\u001b[0m\u001b[1;33m[\u001b[0m\u001b[1;36m1\u001b[0m\u001b[1;33m]\u001b[0m\u001b[1;33m)\u001b[0m\u001b[1;33m\u001b[0m\u001b[1;33m\u001b[0m\u001b[0m\n",
      "\u001b[1;32m<ipython-input-42-2d5a667701f3>\u001b[0m in \u001b[0;36mdo_generation\u001b[1;34m(population, training_set, rad, ca_steps)\u001b[0m\n\u001b[0;32m     24\u001b[0m     \u001b[0mpopulationFitness\u001b[0m \u001b[1;33m=\u001b[0m \u001b[1;33m[\u001b[0m\u001b[1;33m]\u001b[0m \u001b[1;31m#Ex: [(rule,fit),(rul,fit)...]\u001b[0m\u001b[1;33m\u001b[0m\u001b[1;33m\u001b[0m\u001b[0m\n\u001b[0;32m     25\u001b[0m     \u001b[1;32mfor\u001b[0m \u001b[0mindividual\u001b[0m \u001b[1;32min\u001b[0m \u001b[0mpopulation\u001b[0m\u001b[1;33m:\u001b[0m\u001b[1;33m\u001b[0m\u001b[1;33m\u001b[0m\u001b[0m\n\u001b[1;32m---> 26\u001b[1;33m             \u001b[0mpopulationFitness\u001b[0m\u001b[1;33m.\u001b[0m\u001b[0mappend\u001b[0m\u001b[1;33m(\u001b[0m\u001b[1;33m(\u001b[0m\u001b[0mindividual\u001b[0m\u001b[1;33m,\u001b[0m\u001b[0mcompute_fitness\u001b[0m\u001b[1;33m(\u001b[0m\u001b[0mindividual\u001b[0m\u001b[1;33m,\u001b[0m \u001b[0mtraining_set\u001b[0m\u001b[1;33m,\u001b[0m \u001b[0mrad\u001b[0m\u001b[1;33m,\u001b[0m \u001b[0mca_steps\u001b[0m\u001b[1;33m)\u001b[0m\u001b[1;33m)\u001b[0m\u001b[1;33m)\u001b[0m\u001b[1;33m\u001b[0m\u001b[1;33m\u001b[0m\u001b[0m\n\u001b[0m\u001b[0;32m     27\u001b[0m     \u001b[1;32mreturn\u001b[0m \u001b[0msorted\u001b[0m\u001b[1;33m(\u001b[0m\u001b[0mpopulationFitness\u001b[0m\u001b[1;33m,\u001b[0m\u001b[0mkey\u001b[0m\u001b[1;33m=\u001b[0m\u001b[0mitemgetter\u001b[0m\u001b[1;33m(\u001b[0m\u001b[1;36m1\u001b[0m\u001b[1;33m)\u001b[0m\u001b[1;33m,\u001b[0m \u001b[0mreverse\u001b[0m \u001b[1;33m=\u001b[0m \u001b[1;32mTrue\u001b[0m\u001b[1;33m)\u001b[0m\u001b[1;33m\u001b[0m\u001b[1;33m\u001b[0m\u001b[0m\n\u001b[0;32m     28\u001b[0m \u001b[1;33m\u001b[0m\u001b[0m\n",
      "\u001b[1;32m<ipython-input-14-9ade2fab3969>\u001b[0m in \u001b[0;36mcompute_fitness\u001b[1;34m(individual, training_set, r, steps)\u001b[0m\n\u001b[0;32m     59\u001b[0m \u001b[1;33m\u001b[0m\u001b[0m\n\u001b[0;32m     60\u001b[0m             \u001b[1;31m#Run celular automata for a certain individual\u001b[0m\u001b[1;33m\u001b[0m\u001b[1;33m\u001b[0m\u001b[1;33m\u001b[0m\u001b[0m\n\u001b[1;32m---> 61\u001b[1;33m             \u001b[0mca_dynamics\u001b[0m \u001b[1;33m=\u001b[0m \u001b[0mrunCA\u001b[0m\u001b[1;33m(\u001b[0m\u001b[0mexample\u001b[0m\u001b[1;33m,\u001b[0m \u001b[0mindividual\u001b[0m\u001b[1;33m,\u001b[0m \u001b[0mr\u001b[0m\u001b[1;33m,\u001b[0m \u001b[0msteps\u001b[0m\u001b[1;33m)\u001b[0m \u001b[1;31m#Ex:[[0,0,1,0,1],[0,0,1,0,1],[0,0,1,0,1],[0,0,1,0,1]...,[0,0,1,0,1]]\u001b[0m\u001b[1;33m\u001b[0m\u001b[1;33m\u001b[0m\u001b[0m\n\u001b[0m\u001b[0;32m     62\u001b[0m \u001b[1;33m\u001b[0m\u001b[0m\n\u001b[0;32m     63\u001b[0m             \u001b[1;31m#Count 0 and 1 at the end\u001b[0m\u001b[1;33m\u001b[0m\u001b[1;33m\u001b[0m\u001b[1;33m\u001b[0m\u001b[0m\n",
      "\u001b[1;32m<ipython-input-12-4ea448999ca8>\u001b[0m in \u001b[0;36mrunCA\u001b[1;34m(net, rule, rad, m)\u001b[0m\n\u001b[0;32m     46\u001b[0m     \u001b[0mthis\u001b[0m \u001b[1;33m=\u001b[0m \u001b[0mnet\u001b[0m\u001b[1;33m\u001b[0m\u001b[1;33m\u001b[0m\u001b[0m\n\u001b[0;32m     47\u001b[0m     \u001b[1;32mwhile\u001b[0m \u001b[0mi\u001b[0m \u001b[1;33m<\u001b[0m \u001b[0mm\u001b[0m\u001b[1;33m:\u001b[0m\u001b[1;33m\u001b[0m\u001b[1;33m\u001b[0m\u001b[0m\n\u001b[1;32m---> 48\u001b[1;33m         \u001b[0mts\u001b[0m \u001b[1;33m=\u001b[0m \u001b[0mstep_network\u001b[0m\u001b[1;33m(\u001b[0m\u001b[0mthis\u001b[0m\u001b[1;33m,\u001b[0m \u001b[0mrule\u001b[0m\u001b[1;33m,\u001b[0m \u001b[0mrad\u001b[0m\u001b[1;33m)\u001b[0m\u001b[1;33m\u001b[0m\u001b[1;33m\u001b[0m\u001b[0m\n\u001b[0m\u001b[0;32m     49\u001b[0m         \u001b[1;31m#print(ts)\u001b[0m\u001b[1;33m\u001b[0m\u001b[1;33m\u001b[0m\u001b[1;33m\u001b[0m\u001b[0m\n\u001b[0;32m     50\u001b[0m         \u001b[0msp\u001b[0m\u001b[1;33m.\u001b[0m\u001b[0mappend\u001b[0m\u001b[1;33m(\u001b[0m\u001b[0mts\u001b[0m\u001b[1;33m)\u001b[0m\u001b[1;33m\u001b[0m\u001b[1;33m\u001b[0m\u001b[0m\n",
      "\u001b[1;32m<ipython-input-12-4ea448999ca8>\u001b[0m in \u001b[0;36mstep_network\u001b[1;34m(network, rule, rad)\u001b[0m\n\u001b[0;32m     26\u001b[0m             \u001b[0mstart\u001b[0m \u001b[1;33m=\u001b[0m \u001b[1;33m(\u001b[0m\u001b[1;33m(\u001b[0m\u001b[1;36m2\u001b[0m\u001b[1;33m*\u001b[0m\u001b[0mrad\u001b[0m\u001b[1;33m)\u001b[0m\u001b[1;33m+\u001b[0m\u001b[1;36m1\u001b[0m\u001b[1;33m)\u001b[0m\u001b[1;33m*\u001b[0m\u001b[1;33m-\u001b[0m\u001b[1;36m1\u001b[0m\u001b[1;33m\u001b[0m\u001b[1;33m\u001b[0m\u001b[0m\n\u001b[0;32m     27\u001b[0m             \u001b[0mmv\u001b[0m \u001b[1;33m=\u001b[0m \u001b[1;33m-\u001b[0m\u001b[1;36m1\u001b[0m\u001b[1;33m*\u001b[0m\u001b[1;33m(\u001b[0m\u001b[0moffset_right\u001b[0m\u001b[1;33m-\u001b[0m\u001b[0mi\u001b[0m\u001b[1;33m)\u001b[0m\u001b[1;33m\u001b[0m\u001b[1;33m\u001b[0m\u001b[0m\n\u001b[1;32m---> 28\u001b[1;33m             \u001b[0mnetwork_copy\u001b[0m \u001b[1;33m=\u001b[0m \u001b[0mnp\u001b[0m\u001b[1;33m.\u001b[0m\u001b[0mroll\u001b[0m\u001b[1;33m(\u001b[0m\u001b[0mnetwork\u001b[0m\u001b[1;33m,\u001b[0m \u001b[0mmv\u001b[0m\u001b[1;33m)\u001b[0m\u001b[1;33m\u001b[0m\u001b[1;33m\u001b[0m\u001b[0m\n\u001b[0m\u001b[0;32m     29\u001b[0m             \u001b[0mnei\u001b[0m \u001b[1;33m=\u001b[0m \u001b[0mnetwork_copy\u001b[0m\u001b[1;33m[\u001b[0m\u001b[0mstart\u001b[0m\u001b[1;33m:\u001b[0m\u001b[1;33m]\u001b[0m\u001b[1;33m\u001b[0m\u001b[1;33m\u001b[0m\u001b[0m\n\u001b[0;32m     30\u001b[0m             \u001b[0mlc\u001b[0m \u001b[1;33m=\u001b[0m \u001b[0mlist\u001b[0m\u001b[1;33m(\u001b[0m\u001b[0mmap\u001b[0m\u001b[1;33m(\u001b[0m\u001b[0mstr\u001b[0m\u001b[1;33m,\u001b[0m\u001b[0mnei\u001b[0m\u001b[1;33m)\u001b[0m\u001b[1;33m)\u001b[0m\u001b[1;33m\u001b[0m\u001b[1;33m\u001b[0m\u001b[0m\n",
      "\u001b[1;32m<__array_function__ internals>\u001b[0m in \u001b[0;36mroll\u001b[1;34m(*args, **kwargs)\u001b[0m\n",
      "\u001b[1;32m~\\anaconda3\\lib\\site-packages\\numpy\\core\\numeric.py\u001b[0m in \u001b[0;36mroll\u001b[1;34m(a, shift, axis)\u001b[0m\n\u001b[0;32m   1181\u001b[0m     \u001b[0ma\u001b[0m \u001b[1;33m=\u001b[0m \u001b[0masanyarray\u001b[0m\u001b[1;33m(\u001b[0m\u001b[0ma\u001b[0m\u001b[1;33m)\u001b[0m\u001b[1;33m\u001b[0m\u001b[1;33m\u001b[0m\u001b[0m\n\u001b[0;32m   1182\u001b[0m     \u001b[1;32mif\u001b[0m \u001b[0maxis\u001b[0m \u001b[1;32mis\u001b[0m \u001b[1;32mNone\u001b[0m\u001b[1;33m:\u001b[0m\u001b[1;33m\u001b[0m\u001b[1;33m\u001b[0m\u001b[0m\n\u001b[1;32m-> 1183\u001b[1;33m         \u001b[1;32mreturn\u001b[0m \u001b[0mroll\u001b[0m\u001b[1;33m(\u001b[0m\u001b[0ma\u001b[0m\u001b[1;33m.\u001b[0m\u001b[0mravel\u001b[0m\u001b[1;33m(\u001b[0m\u001b[1;33m)\u001b[0m\u001b[1;33m,\u001b[0m \u001b[0mshift\u001b[0m\u001b[1;33m,\u001b[0m \u001b[1;36m0\u001b[0m\u001b[1;33m)\u001b[0m\u001b[1;33m.\u001b[0m\u001b[0mreshape\u001b[0m\u001b[1;33m(\u001b[0m\u001b[0ma\u001b[0m\u001b[1;33m.\u001b[0m\u001b[0mshape\u001b[0m\u001b[1;33m)\u001b[0m\u001b[1;33m\u001b[0m\u001b[1;33m\u001b[0m\u001b[0m\n\u001b[0m\u001b[0;32m   1184\u001b[0m \u001b[1;33m\u001b[0m\u001b[0m\n\u001b[0;32m   1185\u001b[0m     \u001b[1;32melse\u001b[0m\u001b[1;33m:\u001b[0m\u001b[1;33m\u001b[0m\u001b[1;33m\u001b[0m\u001b[0m\n",
      "\u001b[1;32m<__array_function__ internals>\u001b[0m in \u001b[0;36mroll\u001b[1;34m(*args, **kwargs)\u001b[0m\n",
      "\u001b[1;32m~\\anaconda3\\lib\\site-packages\\numpy\\core\\numeric.py\u001b[0m in \u001b[0;36mroll\u001b[1;34m(a, shift, axis)\u001b[0m\n\u001b[0;32m   1204\u001b[0m         \u001b[1;32mfor\u001b[0m \u001b[0mindices\u001b[0m \u001b[1;32min\u001b[0m \u001b[0mitertools\u001b[0m\u001b[1;33m.\u001b[0m\u001b[0mproduct\u001b[0m\u001b[1;33m(\u001b[0m\u001b[1;33m*\u001b[0m\u001b[0mrolls\u001b[0m\u001b[1;33m)\u001b[0m\u001b[1;33m:\u001b[0m\u001b[1;33m\u001b[0m\u001b[1;33m\u001b[0m\u001b[0m\n\u001b[0;32m   1205\u001b[0m             \u001b[0marr_index\u001b[0m\u001b[1;33m,\u001b[0m \u001b[0mres_index\u001b[0m \u001b[1;33m=\u001b[0m \u001b[0mzip\u001b[0m\u001b[1;33m(\u001b[0m\u001b[1;33m*\u001b[0m\u001b[0mindices\u001b[0m\u001b[1;33m)\u001b[0m\u001b[1;33m\u001b[0m\u001b[1;33m\u001b[0m\u001b[0m\n\u001b[1;32m-> 1206\u001b[1;33m             \u001b[0mresult\u001b[0m\u001b[1;33m[\u001b[0m\u001b[0mres_index\u001b[0m\u001b[1;33m]\u001b[0m \u001b[1;33m=\u001b[0m \u001b[0ma\u001b[0m\u001b[1;33m[\u001b[0m\u001b[0marr_index\u001b[0m\u001b[1;33m]\u001b[0m\u001b[1;33m\u001b[0m\u001b[1;33m\u001b[0m\u001b[0m\n\u001b[0m\u001b[0;32m   1207\u001b[0m \u001b[1;33m\u001b[0m\u001b[0m\n\u001b[0;32m   1208\u001b[0m         \u001b[1;32mreturn\u001b[0m \u001b[0mresult\u001b[0m\u001b[1;33m\u001b[0m\u001b[1;33m\u001b[0m\u001b[0m\n",
      "\u001b[1;31mKeyboardInterrupt\u001b[0m: "
     ]
    }
   ],
   "source": [
    "rad = 3\n",
    "s = 2\n",
    "population_size = 20\n",
    "network_size = 50\n",
    "training_set_size = 20\n",
    "elite_size = 5\n",
    "mut_rate = 0.02\n",
    "points = 2\n",
    "\n",
    "run_genetic_algorithm(rad,s,population_size,network_size,training_set_size,elite_size,mut_rate,points)"
   ]
  },
  {
   "cell_type": "code",
   "execution_count": 84,
   "metadata": {},
   "outputs": [
    {
     "name": "stdout",
     "output_type": "stream",
     "text": [
      "[[[0, 0, 1, 1, 0, 0, 1, 1], [0, 1, 1, 1, 0, 0, 1, 0]]]\n",
      "[[0, 0, 0, 0, 0, 0, 0, 0], [0, 0, 0, 0, 0, 0, 0, 0]]\n"
     ]
    }
   ],
   "source": [
    "def mutation(child, mut_rate):\n",
    "    states = [0,1]\n",
    "    child = [ i if mut_rate < random.random() else random.choice(removeArrayElement(states,i)) for i in child]\n",
    "    return child\n",
    "\n",
    "def removeArrayElement(array,element):\n",
    "    a = array.copy()\n",
    "    a.remove(element)\n",
    "    return a\n",
    "ng =[]\n",
    "children = [[0,0,0,0,0,0,0,0],[0,0,0,0,0,0,0,0]]\n",
    "ng.append([mutation(child,0.5) for child in children ])\n",
    "\n",
    "print(ng)\n",
    "print(children)"
   ]
  },
  {
   "cell_type": "code",
   "execution_count": 92,
   "metadata": {},
   "outputs": [
    {
     "name": "stdout",
     "output_type": "stream",
     "text": [
      "[[1, 1, 1, 1, 0, 0, 1, 0], [0, 1, 0, 1, 0, 0, 0, 0]]\n"
     ]
    }
   ],
   "source": [
    "def random_rule(s,n):\n",
    "    rule_size = s**n\n",
    "    rule_space = s**rule_size\n",
    "    random_rule = random.getrandbits(rule_size)\n",
    "    rule_list =  list(map(int, list(np.binary_repr(random_rule,rule_size))))\n",
    "    return rule_list\n",
    "\n",
    "s = 2\n",
    "n = (2*r)+1\n",
    "population_size = 2\n",
    "\n",
    "population = [random_rule(s,n) for i in range(population_size)]\n",
    "print (population)"
   ]
  },
  {
   "cell_type": "code",
   "execution_count": 95,
   "metadata": {},
   "outputs": [],
   "source": [
    "def generate_training_set(training_set_size, s, network_size):\n",
    "    training_set = []\n",
    "    for i in range(training_set_size):\n",
    "        t = np.random.randint(0, s, network_size) # make your automata start with random choice (1 or 0)\n",
    "        training_set.append(list(t))\n",
    "    return training_set"
   ]
  },
  {
   "cell_type": "code",
   "execution_count": 96,
   "metadata": {},
   "outputs": [
    {
     "name": "stdout",
     "output_type": "stream",
     "text": [
      "[[0, 1, 1, 1, 1], [1, 1, 0, 0, 0]]\n"
     ]
    }
   ],
   "source": [
    "a = generate_training_set(2, 2, 5)\n",
    "print(a)"
   ]
  },
  {
   "cell_type": "code",
   "execution_count": 194,
   "metadata": {},
   "outputs": [
    {
     "data": {
      "text/plain": [
       "[[1, 1, 0, 0, 1, 0, 1, 0, 1, 1, 0, 1, 0, 1, 1, 0, 0, 1, 0, 0],\n",
       " [1, 1, 1, 1, 0, 1, 1, 0, 1, 1, 0, 0, 1, 1, 0, 0, 1, 1, 1, 1],\n",
       " [0, 0, 1, 0, 1, 1, 0, 0, 0, 0, 0, 0, 1, 0, 1, 0, 1, 0, 0, 1],\n",
       " [1, 1, 1, 0, 1, 1, 0, 0, 1, 0, 1, 1, 1, 0, 1, 0, 1, 1, 1, 0],\n",
       " [0, 0, 0, 0, 0, 0, 1, 1, 1, 1, 1, 0, 0, 1, 1, 1, 1, 0, 0, 1]]"
      ]
     },
     "execution_count": 194,
     "metadata": {},
     "output_type": "execute_result"
    }
   ],
   "source": [
    "generate_training_set(5, s, 20)"
   ]
  },
  {
   "cell_type": "code",
   "execution_count": null,
   "metadata": {},
   "outputs": [],
   "source": [
    "def do_generation(population, training_set):\n",
    "    # population: conjunto de CA rules\n",
    "    # training_set: conjunto de exemplos para testar CA rules\n",
    "    pop =[] \n",
    "    for individual in population:\n",
    "        performance_list = []\n",
    "        for example in training_set:\n",
    "            count_zeroes = np.count_nonzero(example == 0)\n",
    "            count_ones = np.count_nonzero(example == 1)\n",
    "            if count_zeroes > count_ones:\n",
    "                majority = 0\n",
    "            else:\n",
    "                majority = 1\n",
    "            ca_dynamics = runCA(example, individual[0], rad, ca_steps)\n",
    "            performance = ca_dynamics[-1].count(majority)/len(ca_dynamics[-1])\n",
    "            performance_list.append(performance)\n",
    "        fitness = sum(performance_list)/len(performance_list) \n",
    "        pop.append([individual, fitness])\n",
    "    return sorted(pop, key=lambda x: x[1], reverse=True)"
   ]
  }
 ],
 "metadata": {
  "kernelspec": {
   "display_name": "Python 3",
   "language": "python",
   "name": "python3"
  },
  "language_info": {
   "codemirror_mode": {
    "name": "ipython",
    "version": 3
   },
   "file_extension": ".py",
   "mimetype": "text/x-python",
   "name": "python",
   "nbconvert_exporter": "python",
   "pygments_lexer": "ipython3",
   "version": "3.7.6"
  }
 },
 "nbformat": 4,
 "nbformat_minor": 4
}
